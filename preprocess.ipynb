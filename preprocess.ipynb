{
  "nbformat": 4,
  "nbformat_minor": 0,
  "metadata": {
    "colab": {
      "provenance": [],
      "include_colab_link": true
    },
    "kernelspec": {
      "name": "python3",
      "display_name": "Python 3"
    },
    "language_info": {
      "name": "python"
    }
  },
  "cells": [
    {
      "cell_type": "markdown",
      "metadata": {
        "id": "view-in-github",
        "colab_type": "text"
      },
      "source": [
        "<a href=\"https://colab.research.google.com/github/njanwani/miniproject1/blob/main/preprocess.ipynb\" target=\"_parent\"><img src=\"https://colab.research.google.com/assets/colab-badge.svg\" alt=\"Open In Colab\"/></a>"
      ]
    },
    {
      "cell_type": "code",
      "source": [
        "import numpy as np\n",
        "from tqdm import tqdm\n",
        "import csv, json\n",
        "from scipy import stats\n",
        "\n",
        "import urllib.request\n",
        "urllib.request.urlretrieve('https://raw.githubusercontent.com/njanwani/miniproject1/main/train.json', 'train.json')\n",
        "urllib.request.urlretrieve('https://raw.githubusercontent.com/njanwani/miniproject1/main/test.json', 'test.json')"
      ],
      "metadata": {
        "id": "Z6oqL23kyasx",
        "colab": {
          "base_uri": "https://localhost:8080/"
        },
        "outputId": "fa6b0777-6f9a-449f-e09a-f91433305492"
      },
      "execution_count": 2,
      "outputs": [
        {
          "output_type": "execute_result",
          "data": {
            "text/plain": [
              "('test.json', <http.client.HTTPMessage at 0x7f25c83afca0>)"
            ]
          },
          "metadata": {},
          "execution_count": 2
        }
      ]
    },
    {
      "cell_type": "markdown",
      "source": [
        "# Helper functions"
      ],
      "metadata": {
        "id": "4cYrVCCe1_r3"
      }
    },
    {
      "cell_type": "code",
      "source": [
        "def mean_step_speed(coords):\n",
        "    \"\"\"Mean step speed of the entire track.\n",
        "    \n",
        "    The average per-step speed. Basically the average of distances between points adjacent in time.\n",
        "    \n",
        "    Returns\n",
        "    -------\n",
        "    float\n",
        "        The average step speed.\n",
        "    \"\"\"\n",
        "\n",
        "    speeds = []\n",
        "\n",
        "    for i in range(1, coords.shape[0]):\n",
        "        # Previous coordinate location\n",
        "        prev = coords[i-1, 1:]\n",
        "        # Current coordinate location\n",
        "        curr = coords[i, 1:]\n",
        "        \n",
        "        # Speed in pixels per frame\n",
        "        curr_speed = np.linalg.norm(curr - prev)\n",
        "        \n",
        "        # Accumulate per-step speeds into a list\n",
        "        speeds.append(curr_speed)\n",
        "    \n",
        "    # Return the average of the speeds\n",
        "    if len(speeds) > 0: \n",
        "      return np.mean(speeds)\n",
        "    else:\n",
        "      return 0\n",
        "\n",
        "\n",
        "def stddev_step_speed(coords):\n",
        "    \"\"\"Standard deviation of the step speed of the entire track.\n",
        "    \n",
        "    The standard deviation of the per-step speed.\n",
        "    \n",
        "    Returns\n",
        "    -------\n",
        "    float\n",
        "        The stddev of the step speed.\n",
        "    \"\"\"\n",
        "\n",
        "    speeds = []\n",
        "\n",
        "    for i in range(1, coords.shape[0]):\n",
        "        # Previous coordinate location\n",
        "        prev = coords[i-1, 1:]\n",
        "        # Current coordinate location\n",
        "        curr = coords[i, 1:]\n",
        "        \n",
        "        # Speed in pixels per frame\n",
        "        curr_speed = np.linalg.norm(curr - prev)\n",
        "        \n",
        "        # Accumulate per-step speeds into a list\n",
        "        speeds.append(curr_speed)\n",
        "    \n",
        "    # Return the standard deviation of the speeds\n",
        "    if len(speeds) > 0: \n",
        "      return np.std(speeds)\n",
        "    else:\n",
        "      return 0\n",
        "\n",
        "\n",
        "def track_length(coords):\n",
        "    \"\"\"Standard deviation of the step speed of the entire track.\n",
        "    \n",
        "    The standard deviation of the per-step speed.\n",
        "    \n",
        "    Returns\n",
        "    -------\n",
        "    float\n",
        "        The length of the entire track.\n",
        "    \"\"\"\n",
        "\n",
        "    lengths = []\n",
        "\n",
        "    for i in range(1, coords.shape[0]):\n",
        "        # Previous coordinate location\n",
        "        prev = coords[i-1,1:]\n",
        "        # Current coordinate location\n",
        "        curr = coords[i,1:]\n",
        "        \n",
        "        # Speed in pixels per frame\n",
        "        step_length = np.linalg.norm(curr - prev)\n",
        "        \n",
        "        # Accumulate per-step speeds into a list\n",
        "        lengths.append(step_length)\n",
        "    \n",
        "    # Return the sum of the lengths\n",
        "    return np.sum(lengths)\n",
        "\n",
        "\n",
        "def e2e_distance(coords):\n",
        "    \"\"\"End-to-end distance of the track.\n",
        "    \n",
        "    The distance from the start and the end of the given track.\n",
        "    \n",
        "    Returns\n",
        "    -------\n",
        "    float\n",
        "        The end-to-end distance of the entire track.\n",
        "    \"\"\"\n",
        "    \n",
        "    # Start and end of the track\n",
        "    start = coords[0, 1:]\n",
        "    end = coords[-1, 1:]\n",
        "    \n",
        "    # Return the distance\n",
        "    return np.linalg.norm(end-start)\n",
        "\n",
        "\n",
        "def duration(coords):\n",
        "    \"\"\"Duration of the track.\n",
        "    \n",
        "    The time duration of the track.\n",
        "    \n",
        "    Returns\n",
        "    -------\n",
        "    int\n",
        "        The end-to-end duration of the entire track.\n",
        "    \"\"\"\n",
        "    \n",
        "    # Start and end times of the track\n",
        "    start_t = coords[0, 0]\n",
        "    end_t = coords[-1, 0]\n",
        "    \n",
        "    # Return the difference\n",
        "    return end_t - start_t\n",
        "\n",
        "def min_step(coords):\n",
        "  speeds = []\n",
        "\n",
        "  for i in range(1, coords.shape[0]):\n",
        "      # Previous coordinate location\n",
        "      prev = coords[i-1, 1:]\n",
        "      # Current coordinate location\n",
        "      curr = coords[i, 1:]\n",
        "      \n",
        "      # Speed in pixels per frame\n",
        "      curr_speed = np.linalg.norm(curr - prev)\n",
        "      \n",
        "      # Accumulate per-step speeds into a list\n",
        "      speeds.append(curr_speed)\n",
        "  \n",
        "  # Return the average of the speeds\n",
        "  try:\n",
        "    return np.min(speeds)\n",
        "  except:\n",
        "    return 0\n",
        "\n",
        "\n",
        "def max_step(coords):\n",
        "  speeds = []\n",
        "\n",
        "  for i in range(1, coords.shape[0]):\n",
        "      # Previous coordinate location\n",
        "      prev = coords[i-1, 1:]\n",
        "      # Current coordinate location\n",
        "      curr = coords[i, 1:]\n",
        "      \n",
        "      # Speed in pixels per frame\n",
        "      curr_speed = np.linalg.norm(curr - prev)\n",
        "      \n",
        "      # Accumulate per-step speeds into a list\n",
        "      speeds.append(curr_speed)\n",
        "  \n",
        "  # Return the average of the speeds\n",
        "  try:\n",
        "    return np.max(speeds)\n",
        "  except:\n",
        "    return 0\n",
        "\n",
        "def predictability(coords):\n",
        "  if len(coords) >= 4:\n",
        "    return stats.linregress(coords[:,0], coords[:,1])[2] # r^2 value\n",
        "  else:\n",
        "    return 0"
      ],
      "metadata": {
        "id": "C4ABokt_132I"
      },
      "execution_count": 3,
      "outputs": []
    },
    {
      "cell_type": "markdown",
      "source": [
        "# Pre-processing"
      ],
      "metadata": {
        "id": "agb_d9Bu3DmY"
      }
    },
    {
      "cell_type": "code",
      "source": [
        "FEATURE_LIST = [mean_step_speed, stddev_step_speed, track_length, e2e_distance, duration, min_step, max_step, predictability]"
      ],
      "metadata": {
        "id": "OGVyM9tJ3qEd"
      },
      "execution_count": 4,
      "outputs": []
    },
    {
      "cell_type": "code",
      "source": [
        "def process(json_file, OUTPUT_FILENAME):\n",
        "  data = []\n",
        "  with open(json_file, 'r') as f:\n",
        "    track_data = json.load(f)\n",
        "\n",
        "  # Generate the feature csv\n",
        "  header = ['uid', 'label']\n",
        "  for featfunc in FEATURE_LIST:\n",
        "      header.append(featfunc.__name__)\n",
        "\n",
        "  features = []\n",
        "\n",
        "  track_uids = track_data.keys()\n",
        "  for uid in tqdm(track_uids):\n",
        "      curr_row = {\n",
        "          'uid': uid,\n",
        "          'label': track_data[uid]['label']\n",
        "      }\n",
        "      \n",
        "      for featfunc in FEATURE_LIST:\n",
        "          curr_row[featfunc.__name__] = featfunc(np.array(track_data[uid]['txy']))\n",
        "      \n",
        "      features.append(curr_row)\n",
        "\n",
        "  with open(OUTPUT_FILENAME, 'w') as f:\n",
        "      writer = csv.DictWriter(f, fieldnames = header)\n",
        "      writer.writeheader()\n",
        "      for r in features:\n",
        "          writer.writerow(r)\n",
        "\n",
        "  print(\"Written to:\", OUTPUT_FILENAME)"
      ],
      "metadata": {
        "id": "4dbsii6_2EmU"
      },
      "execution_count": 5,
      "outputs": []
    },
    {
      "cell_type": "code",
      "source": [
        "# process('train.json', 'train_features.csv')"
      ],
      "metadata": {
        "id": "R3wlVtHV3aY0"
      },
      "execution_count": null,
      "outputs": []
    },
    {
      "cell_type": "code",
      "source": [
        "# process('test.json', 'test_features.csv')"
      ],
      "metadata": {
        "id": "YvKSEeVN3dY2"
      },
      "execution_count": null,
      "outputs": []
    },
    {
      "cell_type": "code",
      "source": [],
      "metadata": {
        "id": "gBMfTn9S60KX"
      },
      "execution_count": null,
      "outputs": []
    }
  ]
}