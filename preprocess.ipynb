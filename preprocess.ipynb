{
  "nbformat": 4,
  "nbformat_minor": 0,
  "metadata": {
    "colab": {
      "provenance": [],
      "authorship_tag": "ABX9TyMLRTjEBKcjd9WW3kLoubbh",
      "include_colab_link": true
    },
    "kernelspec": {
      "name": "python3",
      "display_name": "Python 3"
    },
    "language_info": {
      "name": "python"
    }
  },
  "cells": [
    {
      "cell_type": "markdown",
      "metadata": {
        "id": "view-in-github",
        "colab_type": "text"
      },
      "source": [
        "<a href=\"https://colab.research.google.com/github/njanwani/miniproject1/blob/main/preprocess.ipynb\" target=\"_parent\"><img src=\"https://colab.research.google.com/assets/colab-badge.svg\" alt=\"Open In Colab\"/></a>"
      ]
    },
    {
      "cell_type": "code",
      "execution_count": 1,
      "metadata": {
        "id": "SxdjTQ2rs3te"
      },
      "outputs": [],
      "source": [
        "def asdf():\n",
        "  print('asdf')"
      ]
    },
    {
      "cell_type": "code",
      "source": [
        "def bruh():\n",
        "  print('bruh')"
      ],
      "metadata": {
        "id": "7qHsJdLZs7xE"
      },
      "execution_count": 4,
      "outputs": []
    },
    {
      "cell_type": "code",
      "source": [],
      "metadata": {
        "id": "Z6oqL23kyasx"
      },
      "execution_count": null,
      "outputs": []
    }
  ]
}